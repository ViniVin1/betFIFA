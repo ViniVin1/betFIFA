{
 "cells": [
  {
   "cell_type": "code",
   "execution_count": 46,
   "metadata": {},
   "outputs": [],
   "source": [
    "import pandas as pd\n",
    "import time\n",
    "from selenium import webdriver\n",
    "from selenium.webdriver.chrome.service import Service\n",
    "from selenium.webdriver.common.by import By"
   ]
  },
  {
   "cell_type": "code",
   "execution_count": 47,
   "metadata": {},
   "outputs": [],
   "source": [
    "def extrair_partidas(url):\n",
    "    service = Service() # Usada para iniciar uma instância do Chrome\n",
    "    options = webdriver.ChromeOptions()\n",
    "    options.add_argument('--start-maximized') # Define a preferência de browser para o Chrome\n",
    "    driver = webdriver.Chrome(service=service, options=options) # Inicia a instância\n",
    "    driver.get(url)\n",
    "\n",
    "    time.sleep(10)\n",
    "    partidas = driver.find_elements(By.CLASS_NAME, 'tournament-matches-row')\n",
    "    lista_partidas = []\n",
    "\n",
    "    for i in range(len(partidas)):\n",
    "        partida = {}\n",
    "        partida['time_casa'] = partidas[i].text.split('\\n')[4]\n",
    "        partida['player_casa'] = partidas[i].text.split('\\n')[5]\n",
    "        partida['gols_casa'] = int(partidas[i].text.split('\\n')[6])\n",
    "        partida['gols_fora'] = int(partidas[i].text.split('\\n')[8])\n",
    "        partida['player_fora'] = partidas[i].text.split('\\n')[11]\n",
    "        partida['time_fora'] = partidas[i].text.split('\\n')[10]\n",
    "        partida['total_gols'] = partida['gols_casa'] + partida['gols_fora']\n",
    "        \n",
    "        # Gols\n",
    "        if partida['total_gols'] > 3.5:\n",
    "            partida['+ 0.5'] = 'Sim'\n",
    "            partida['+ 1.5'] = 'Sim'\n",
    "            partida['+ 2.5'] = 'Sim'\n",
    "            partida['+ 3.5'] = 'Sim'\n",
    "        else:\n",
    "            if partida['total_gols'] > 2.5:\n",
    "                partida['+ 0.5'] = 'Sim'\n",
    "                partida['+ 1.5'] = 'Sim'\n",
    "                partida['+ 2.5'] = 'Sim'\n",
    "                partida['+ 3.5'] = 'Não'\n",
    "            else:\n",
    "                if partida['total_gols'] > 1.5:\n",
    "                    partida['+ 0.5'] = 'Sim'\n",
    "                    partida['+ 1.5'] = 'Sim'\n",
    "                    partida['+ 2.5'] = 'Não'\n",
    "                    partida['+ 3.5'] = 'Não'\n",
    "                else:\n",
    "                    if partida['total_gols'] > 0.5:\n",
    "                        partida['+ 0.5'] = 'Sim'\n",
    "                        partida['+ 1.5'] = 'Não'\n",
    "                        partida['+ 2.5'] = 'Não'\n",
    "                        partida['+ 3.5'] = 'Não'\n",
    "                    else:\n",
    "                        partida['+ 0.5'] = 'Não'\n",
    "                        partida['+ 1.5'] = 'Não'\n",
    "                        partida['+ 2.5'] = 'Não'\n",
    "                        partida['+ 3.5'] = 'Não'\n",
    "\n",
    "        \n",
    "        # Vitoria\n",
    "        if partida['gols_casa'] > partida['gols_fora']:\n",
    "            partida['vencedor'] = 'Casa'\n",
    "        elif partida['gols_casa'] < partida['gols_fora']:\n",
    "            partida['vencedor'] = 'Fora'\n",
    "        else:\n",
    "            partida['vencedor'] = 'Empate'\n",
    "        \n",
    "\n",
    "\n",
    "        lista_partidas.append(partida)\n",
    "\n",
    "    df = pd.DataFrame(lista_partidas)\n",
    "    return df\n"
   ]
  },
  {
   "cell_type": "code",
   "execution_count": 48,
   "metadata": {},
   "outputs": [
    {
     "data": {
      "text/html": [
       "<div>\n",
       "<style scoped>\n",
       "    .dataframe tbody tr th:only-of-type {\n",
       "        vertical-align: middle;\n",
       "    }\n",
       "\n",
       "    .dataframe tbody tr th {\n",
       "        vertical-align: top;\n",
       "    }\n",
       "\n",
       "    .dataframe thead th {\n",
       "        text-align: right;\n",
       "    }\n",
       "</style>\n",
       "<table border=\"1\" class=\"dataframe\">\n",
       "  <thead>\n",
       "    <tr style=\"text-align: right;\">\n",
       "      <th></th>\n",
       "    </tr>\n",
       "  </thead>\n",
       "  <tbody>\n",
       "  </tbody>\n",
       "</table>\n",
       "</div>"
      ],
      "text/plain": [
       "Empty DataFrame\n",
       "Columns: []\n",
       "Index: []"
      ]
     },
     "execution_count": 48,
     "metadata": {},
     "output_type": "execute_result"
    }
   ],
   "source": [
    "url = 'https://football.esportsbattle.com/en/tournament/20638'\n",
    "extrair_partidas(url)\n"
   ]
  }
 ],
 "metadata": {
  "kernelspec": {
   "display_name": "Python 3",
   "language": "python",
   "name": "python3"
  },
  "language_info": {
   "codemirror_mode": {
    "name": "ipython",
    "version": 3
   },
   "file_extension": ".py",
   "mimetype": "text/x-python",
   "name": "python",
   "nbconvert_exporter": "python",
   "pygments_lexer": "ipython3",
   "version": "3.11.4"
  }
 },
 "nbformat": 4,
 "nbformat_minor": 2
}
