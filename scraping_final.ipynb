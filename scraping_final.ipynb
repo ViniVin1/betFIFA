{
 "cells": [
  {
   "cell_type": "markdown",
   "metadata": {},
   "source": [
    "##### Bibliotecas"
   ]
  },
  {
   "cell_type": "code",
   "execution_count": 1,
   "metadata": {},
   "outputs": [],
   "source": [
    "import pandas as pd\n",
    "import time\n",
    "import csv\n",
    "from selenium import webdriver\n",
    "from selenium.webdriver.chrome.service import Service\n",
    "from selenium.webdriver.common.by import By\n",
    "from datetime import datetime, timedelta"
   ]
  },
  {
   "cell_type": "markdown",
   "metadata": {},
   "source": [
    "##### Funções"
   ]
  },
  {
   "cell_type": "code",
   "execution_count": 2,
   "metadata": {},
   "outputs": [],
   "source": [
    "def extrair_partidas(url, data):\n",
    "    service = Service() # Usada para iniciar uma instância do Chrome\n",
    "    options = webdriver.ChromeOptions()\n",
    "    options.add_argument('--start-maximized') # Define a preferência de browser para o Chrome\n",
    "    driver = webdriver.Chrome(service=service, options=options) # Inicia a instância\n",
    "    time.sleep(5)\n",
    "    driver.get(url)\n",
    "\n",
    "    time.sleep(10)\n",
    "    partidas = driver.find_elements(By.CLASS_NAME, 'tournament-matches-row')\n",
    "    lista_partidas = []\n",
    "\n",
    "    # Pega dados\n",
    "    for i in range(len(partidas)):\n",
    "        partida = {}\n",
    "        partida['data'] = data\n",
    "        partida['time_casa'] = partidas[i].text.split('\\n')[4]\n",
    "        partida['player_casa'] = partidas[i].text.split('\\n')[5]\n",
    "        partida['gols_casa'] = int(partidas[i].text.split('\\n')[6])\n",
    "        partida['gols_fora'] = int(partidas[i].text.split('\\n')[8])\n",
    "        partida['player_fora'] = partidas[i].text.split('\\n')[11]\n",
    "        partida['time_fora'] = partidas[i].text.split('\\n')[10]\n",
    "        partida['total_gols'] = partida['gols_casa'] + partida['gols_fora']\n",
    "        \n",
    "        # Gols\n",
    "        if partida['total_gols'] > 3.5:\n",
    "            partida['+ 0.5'] = 'Sim'\n",
    "            partida['+ 1.5'] = 'Sim'\n",
    "            partida['+ 2.5'] = 'Sim'\n",
    "            partida['+ 3.5'] = 'Sim'\n",
    "        else:\n",
    "            if partida['total_gols'] > 2.5:\n",
    "                partida['+ 0.5'] = 'Sim'\n",
    "                partida['+ 1.5'] = 'Sim'\n",
    "                partida['+ 2.5'] = 'Sim'\n",
    "                partida['+ 3.5'] = 'Não'\n",
    "            else:\n",
    "                if partida['total_gols'] > 1.5:\n",
    "                    partida['+ 0.5'] = 'Sim'\n",
    "                    partida['+ 1.5'] = 'Sim'\n",
    "                    partida['+ 2.5'] = 'Não'\n",
    "                    partida['+ 3.5'] = 'Não'\n",
    "                else:\n",
    "                    if partida['total_gols'] > 0.5:\n",
    "                        partida['+ 0.5'] = 'Sim'\n",
    "                        partida['+ 1.5'] = 'Não'\n",
    "                        partida['+ 2.5'] = 'Não'\n",
    "                        partida['+ 3.5'] = 'Não'\n",
    "                    else:\n",
    "                        partida['+ 0.5'] = 'Não'\n",
    "                        partida['+ 1.5'] = 'Não'\n",
    "                        partida['+ 2.5'] = 'Não'\n",
    "                        partida['+ 3.5'] = 'Não'\n",
    "\n",
    "        \n",
    "        # Vitoria\n",
    "        if partida['gols_casa'] > partida['gols_fora']:\n",
    "            partida['vencedor'] = 'Casa'\n",
    "        elif partida['gols_casa'] < partida['gols_fora']:\n",
    "            partida['vencedor'] = 'Fora'\n",
    "        else:\n",
    "            partida['vencedor'] = 'Empate'\n",
    "        \n",
    "\n",
    "\n",
    "        lista_partidas.append(partida)\n",
    "        \n",
    "    driver.close()\n",
    "    driver.quit()\n",
    "    return lista_partidas\n",
    "\n",
    "def extrair_torneios(url):\n",
    "    service = Service() # Usada para iniciar uma instância do Chrome\n",
    "    options = webdriver.ChromeOptions()\n",
    "    options.add_argument('--start-maximized') # Define a preferência de browser para o Chrome\n",
    "    driver = webdriver.Chrome(service=service, options=options) # Inicia a instância\n",
    "    driver.get(url)\n",
    "    time.sleep(10)\n",
    "    links = driver.find_elements(By.CLASS_NAME, 'icon-link')\n",
    "\n",
    "    lista_torneios = []\n",
    "    for i in range(len(links)):\n",
    "        lista_torneios.append(links[i].get_attribute('href'))\n",
    "\n",
    "    return lista_torneios\n",
    "\n",
    "def salvar(dados):\n",
    "    dados = dados\n",
    "    for i in range(len(dados)):\n",
    "        with open('base_jogos.csv', 'a', newline='', encoding='utf-8') as arquivo:\n",
    "            escrever = csv.writer(arquivo)\n",
    "            escrever.writerow([dados[i]['data'], dados[i]['time_casa'], dados[i]['player_casa'], \n",
    "            dados[i]['gols_casa'], dados[i]['gols_fora'], dados[i]['player_fora'], dados[i]['time_fora'], \n",
    "            dados[i]['total_gols'], dados[i]['+ 0.5'], dados[i]['+ 1.5'],dados[i]['+ 2.5'],\n",
    "            dados[i]['+ 3.5'], dados[i]['vencedor']])\n",
    "    \n"
   ]
  },
  {
   "cell_type": "markdown",
   "metadata": {},
   "source": [
    "##### Preparação"
   ]
  },
  {
   "cell_type": "code",
   "execution_count": 5,
   "metadata": {},
   "outputs": [],
   "source": [
    "# Cria uma lista de datas\n",
    "list_datas = [(datetime(2022, 1, 15) + timedelta(days=n)).strftime('%Y-%m-%d') \n",
    "              for n in range((datetime(2022, 12, 31) - datetime(2022, 1, 1)).days + 1)]\n",
    "\n",
    "# Cria um lista de URLs com as datas\n",
    "pags_urls = []\n",
    "for i in range(len(list_datas)):\n",
    "    url = f\"https://football.esportsbattle.com/en/schedule?page=1&dateFrom={list_datas[i].split('-')[0]}%2F{list_datas[i].split('-')[1]}%2F{list_datas[i].split('-')[2]}+08%3A00&dateTo={list_datas[i].split('-')[0]}%2F{list_datas[i].split('-')[1]}%2F{list_datas[i].split('-')[2]}+23%3A59\"\n",
    "    pags_urls.append(url)    "
   ]
  },
  {
   "cell_type": "markdown",
   "metadata": {},
   "source": [
    "##### Inicialização das Funções"
   ]
  },
  {
   "cell_type": "code",
   "execution_count": 6,
   "metadata": {},
   "outputs": [
    {
     "ename": "WebDriverException",
     "evalue": "Message: no such execution context\n  (Session info: chrome=121.0.6167.185)\nStacktrace:\n\tGetHandleVerifier [0x00007FF651127012+3522402]\n\t(No symbol) [0x00007FF650D48352]\n\t(No symbol) [0x00007FF650BF596D]\n\t(No symbol) [0x00007FF650BE33A6]\n\t(No symbol) [0x00007FF650BE13D1]\n\t(No symbol) [0x00007FF650BE1E3F]\n\t(No symbol) [0x00007FF650BEFB40]\n\t(No symbol) [0x00007FF650C01D43]\n\t(No symbol) [0x00007FF650C0618A]\n\t(No symbol) [0x00007FF650BE2400]\n\t(No symbol) [0x00007FF650C01913]\n\t(No symbol) [0x00007FF650C7BC7A]\n\t(No symbol) [0x00007FF650C5EE03]\n\t(No symbol) [0x00007FF650C2F4D4]\n\t(No symbol) [0x00007FF650C305F1]\n\tGetHandleVerifier [0x00007FF651159B9D+3730157]\n\tGetHandleVerifier [0x00007FF6511AF02D+4079485]\n\tGetHandleVerifier [0x00007FF6511A75D3+4048163]\n\tGetHandleVerifier [0x00007FF650E7A649+718233]\n\t(No symbol) [0x00007FF650D54A3F]\n\t(No symbol) [0x00007FF650D4FA94]\n\t(No symbol) [0x00007FF650D4FBC2]\n\t(No symbol) [0x00007FF650D3F2E4]\n\tBaseThreadInitThunk [0x00007FFCA8347344+20]\n\tRtlUserThreadStart [0x00007FFCA84826B1+33]\n",
     "output_type": "error",
     "traceback": [
      "\u001b[1;31m---------------------------------------------------------------------------\u001b[0m",
      "\u001b[1;31mWebDriverException\u001b[0m                        Traceback (most recent call last)",
      "Cell \u001b[1;32mIn[6], line 3\u001b[0m\n\u001b[0;32m      1\u001b[0m cont \u001b[38;5;241m=\u001b[39m \u001b[38;5;241m0\u001b[39m\n\u001b[0;32m      2\u001b[0m \u001b[38;5;28;01mfor\u001b[39;00m url \u001b[38;5;129;01min\u001b[39;00m pags_urls:\n\u001b[1;32m----> 3\u001b[0m     torneios \u001b[38;5;241m=\u001b[39m \u001b[43mextrair_torneios\u001b[49m\u001b[43m(\u001b[49m\u001b[43murl\u001b[49m\u001b[43m)\u001b[49m\n\u001b[0;32m      4\u001b[0m     \u001b[38;5;28;01mfor\u001b[39;00m torneio \u001b[38;5;129;01min\u001b[39;00m torneios:\n\u001b[0;32m      5\u001b[0m         partidas \u001b[38;5;241m=\u001b[39m extrair_partidas(torneio, list_datas[cont])\n",
      "Cell \u001b[1;32mIn[2], line 77\u001b[0m, in \u001b[0;36mextrair_torneios\u001b[1;34m(url)\u001b[0m\n\u001b[0;32m     75\u001b[0m options\u001b[38;5;241m.\u001b[39madd_argument(\u001b[38;5;124m'\u001b[39m\u001b[38;5;124m--start-maximized\u001b[39m\u001b[38;5;124m'\u001b[39m) \u001b[38;5;66;03m# Define a preferência de browser para o Chrome\u001b[39;00m\n\u001b[0;32m     76\u001b[0m driver \u001b[38;5;241m=\u001b[39m webdriver\u001b[38;5;241m.\u001b[39mChrome(service\u001b[38;5;241m=\u001b[39mservice, options\u001b[38;5;241m=\u001b[39moptions) \u001b[38;5;66;03m# Inicia a instância\u001b[39;00m\n\u001b[1;32m---> 77\u001b[0m \u001b[43mdriver\u001b[49m\u001b[38;5;241;43m.\u001b[39;49m\u001b[43mget\u001b[49m\u001b[43m(\u001b[49m\u001b[43murl\u001b[49m\u001b[43m)\u001b[49m\n\u001b[0;32m     78\u001b[0m time\u001b[38;5;241m.\u001b[39msleep(\u001b[38;5;241m10\u001b[39m)\n\u001b[0;32m     79\u001b[0m links \u001b[38;5;241m=\u001b[39m driver\u001b[38;5;241m.\u001b[39mfind_elements(By\u001b[38;5;241m.\u001b[39mCLASS_NAME, \u001b[38;5;124m'\u001b[39m\u001b[38;5;124micon-link\u001b[39m\u001b[38;5;124m'\u001b[39m)\n",
      "File \u001b[1;32mc:\\Users\\Windows R2\\AppData\\Local\\Programs\\Python\\Python310\\lib\\site-packages\\selenium\\webdriver\\remote\\webdriver.py:356\u001b[0m, in \u001b[0;36mWebDriver.get\u001b[1;34m(self, url)\u001b[0m\n\u001b[0;32m    354\u001b[0m \u001b[38;5;28;01mdef\u001b[39;00m \u001b[38;5;21mget\u001b[39m(\u001b[38;5;28mself\u001b[39m, url: \u001b[38;5;28mstr\u001b[39m) \u001b[38;5;241m-\u001b[39m\u001b[38;5;241m>\u001b[39m \u001b[38;5;28;01mNone\u001b[39;00m:\n\u001b[0;32m    355\u001b[0m \u001b[38;5;250m    \u001b[39m\u001b[38;5;124;03m\"\"\"Loads a web page in the current browser session.\"\"\"\u001b[39;00m\n\u001b[1;32m--> 356\u001b[0m     \u001b[38;5;28;43mself\u001b[39;49m\u001b[38;5;241;43m.\u001b[39;49m\u001b[43mexecute\u001b[49m\u001b[43m(\u001b[49m\u001b[43mCommand\u001b[49m\u001b[38;5;241;43m.\u001b[39;49m\u001b[43mGET\u001b[49m\u001b[43m,\u001b[49m\u001b[43m \u001b[49m\u001b[43m{\u001b[49m\u001b[38;5;124;43m\"\u001b[39;49m\u001b[38;5;124;43murl\u001b[39;49m\u001b[38;5;124;43m\"\u001b[39;49m\u001b[43m:\u001b[49m\u001b[43m \u001b[49m\u001b[43murl\u001b[49m\u001b[43m}\u001b[49m\u001b[43m)\u001b[49m\n",
      "File \u001b[1;32mc:\\Users\\Windows R2\\AppData\\Local\\Programs\\Python\\Python310\\lib\\site-packages\\selenium\\webdriver\\remote\\webdriver.py:347\u001b[0m, in \u001b[0;36mWebDriver.execute\u001b[1;34m(self, driver_command, params)\u001b[0m\n\u001b[0;32m    345\u001b[0m response \u001b[38;5;241m=\u001b[39m \u001b[38;5;28mself\u001b[39m\u001b[38;5;241m.\u001b[39mcommand_executor\u001b[38;5;241m.\u001b[39mexecute(driver_command, params)\n\u001b[0;32m    346\u001b[0m \u001b[38;5;28;01mif\u001b[39;00m response:\n\u001b[1;32m--> 347\u001b[0m     \u001b[38;5;28;43mself\u001b[39;49m\u001b[38;5;241;43m.\u001b[39;49m\u001b[43merror_handler\u001b[49m\u001b[38;5;241;43m.\u001b[39;49m\u001b[43mcheck_response\u001b[49m\u001b[43m(\u001b[49m\u001b[43mresponse\u001b[49m\u001b[43m)\u001b[49m\n\u001b[0;32m    348\u001b[0m     response[\u001b[38;5;124m\"\u001b[39m\u001b[38;5;124mvalue\u001b[39m\u001b[38;5;124m\"\u001b[39m] \u001b[38;5;241m=\u001b[39m \u001b[38;5;28mself\u001b[39m\u001b[38;5;241m.\u001b[39m_unwrap_value(response\u001b[38;5;241m.\u001b[39mget(\u001b[38;5;124m\"\u001b[39m\u001b[38;5;124mvalue\u001b[39m\u001b[38;5;124m\"\u001b[39m, \u001b[38;5;28;01mNone\u001b[39;00m))\n\u001b[0;32m    349\u001b[0m     \u001b[38;5;28;01mreturn\u001b[39;00m response\n",
      "File \u001b[1;32mc:\\Users\\Windows R2\\AppData\\Local\\Programs\\Python\\Python310\\lib\\site-packages\\selenium\\webdriver\\remote\\errorhandler.py:229\u001b[0m, in \u001b[0;36mErrorHandler.check_response\u001b[1;34m(self, response)\u001b[0m\n\u001b[0;32m    227\u001b[0m         alert_text \u001b[38;5;241m=\u001b[39m value[\u001b[38;5;124m\"\u001b[39m\u001b[38;5;124malert\u001b[39m\u001b[38;5;124m\"\u001b[39m]\u001b[38;5;241m.\u001b[39mget(\u001b[38;5;124m\"\u001b[39m\u001b[38;5;124mtext\u001b[39m\u001b[38;5;124m\"\u001b[39m)\n\u001b[0;32m    228\u001b[0m     \u001b[38;5;28;01mraise\u001b[39;00m exception_class(message, screen, stacktrace, alert_text)  \u001b[38;5;66;03m# type: ignore[call-arg]  # mypy is not smart enough here\u001b[39;00m\n\u001b[1;32m--> 229\u001b[0m \u001b[38;5;28;01mraise\u001b[39;00m exception_class(message, screen, stacktrace)\n",
      "\u001b[1;31mWebDriverException\u001b[0m: Message: no such execution context\n  (Session info: chrome=121.0.6167.185)\nStacktrace:\n\tGetHandleVerifier [0x00007FF651127012+3522402]\n\t(No symbol) [0x00007FF650D48352]\n\t(No symbol) [0x00007FF650BF596D]\n\t(No symbol) [0x00007FF650BE33A6]\n\t(No symbol) [0x00007FF650BE13D1]\n\t(No symbol) [0x00007FF650BE1E3F]\n\t(No symbol) [0x00007FF650BEFB40]\n\t(No symbol) [0x00007FF650C01D43]\n\t(No symbol) [0x00007FF650C0618A]\n\t(No symbol) [0x00007FF650BE2400]\n\t(No symbol) [0x00007FF650C01913]\n\t(No symbol) [0x00007FF650C7BC7A]\n\t(No symbol) [0x00007FF650C5EE03]\n\t(No symbol) [0x00007FF650C2F4D4]\n\t(No symbol) [0x00007FF650C305F1]\n\tGetHandleVerifier [0x00007FF651159B9D+3730157]\n\tGetHandleVerifier [0x00007FF6511AF02D+4079485]\n\tGetHandleVerifier [0x00007FF6511A75D3+4048163]\n\tGetHandleVerifier [0x00007FF650E7A649+718233]\n\t(No symbol) [0x00007FF650D54A3F]\n\t(No symbol) [0x00007FF650D4FA94]\n\t(No symbol) [0x00007FF650D4FBC2]\n\t(No symbol) [0x00007FF650D3F2E4]\n\tBaseThreadInitThunk [0x00007FFCA8347344+20]\n\tRtlUserThreadStart [0x00007FFCA84826B1+33]\n"
     ]
    }
   ],
   "source": [
    "cont = 0\n",
    "for url in pags_urls:\n",
    "    torneios = extrair_torneios(url)\n",
    "    for torneio in torneios:\n",
    "        partidas = extrair_partidas(torneio, list_datas[cont])\n",
    "        salvar(partidas)\n",
    "    cont += 1\n",
    "time.sleep(10)    "
   ]
  }
 ],
 "metadata": {
  "kernelspec": {
   "display_name": "Python 3",
   "language": "python",
   "name": "python3"
  },
  "language_info": {
   "codemirror_mode": {
    "name": "ipython",
    "version": 3
   },
   "file_extension": ".py",
   "mimetype": "text/x-python",
   "name": "python",
   "nbconvert_exporter": "python",
   "pygments_lexer": "ipython3",
   "version": "3.10.7"
  }
 },
 "nbformat": 4,
 "nbformat_minor": 2
}
