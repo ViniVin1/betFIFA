{
 "cells": [
  {
   "cell_type": "code",
   "execution_count": 12,
   "id": "18ecd150",
   "metadata": {},
   "outputs": [],
   "source": [
    "# Notebook de scraping para coletar histórico de partidas FIFA EsportsBattle\n",
    "%run ../src/scraping/coletar_partidas.ipynb\n",
    "import pandas as pd\n"
   ]
  },
  {
   "cell_type": "code",
   "execution_count": 13,
   "id": "881edd2b",
   "metadata": {},
   "outputs": [],
   "source": [
    "# Definir intervalo de datas para coleta (ajuste conforme necessidade)\n",
    "data_inicio = \"2025-08-01\"\n",
    "data_fim = \"2025-08-01\""
   ]
  },
  {
   "cell_type": "code",
   "execution_count": 14,
   "id": "252d1f09",
   "metadata": {},
   "outputs": [
    {
     "name": "stdout",
     "output_type": "stream",
     "text": [
      "Coletando partidas do dia 2025-08-01...\n",
      "[INFO] Coleta finalizada.\n"
     ]
    }
   ],
   "source": [
    "\n",
    "# Caminho onde o CSV será salvo\n",
    "destino_csv = \"../data/raw/base_jogos.csv\"\n",
    "\n",
    "# Coletar dados de partidas usando Selenium (pode levar alguns segundos)\n",
    "coletar_periodo(data_inicio, data_fim, destino_csv)"
   ]
  }
 ],
 "metadata": {
  "kernelspec": {
   "display_name": "base",
   "language": "python",
   "name": "python3"
  },
  "language_info": {
   "codemirror_mode": {
    "name": "ipython",
    "version": 3
   },
   "file_extension": ".py",
   "mimetype": "text/x-python",
   "name": "python",
   "nbconvert_exporter": "python",
   "pygments_lexer": "ipython3",
   "version": "3.12.7"
  }
 },
 "nbformat": 4,
 "nbformat_minor": 5
}
