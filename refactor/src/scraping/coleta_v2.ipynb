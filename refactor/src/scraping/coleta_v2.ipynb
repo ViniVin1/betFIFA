{
 "cells": [
  {
   "cell_type": "code",
   "execution_count": 2,
   "id": "a12463cd",
   "metadata": {},
   "outputs": [],
   "source": [
    "import pandas as pd\n",
    "import time\n",
    "import csv\n",
    "from datetime import datetime, timedelta\n",
    "import requests"
   ]
  },
  {
   "cell_type": "markdown",
   "id": "2c1df4c0",
   "metadata": {},
   "source": [
    "##### Função que pega todos os torneios para a data definida"
   ]
  },
  {
   "cell_type": "code",
   "execution_count": 59,
   "id": "00e5607b",
   "metadata": {},
   "outputs": [],
   "source": [
    "def pega_torneios(url):\n",
    "    response = requests.get(url) # Faz a requisição na URL\n",
    "    json_torneios = response.json() # Retorna o JSON da requisição\n",
    "    paginas = json_torneios['totalPages'] # Quantidade de páginas com o torneios\n",
    "    torneios = json_torneios['tournaments'] # Quantidade de torneios\n",
    "\n",
    "    lista_torneios = [] # Lista de todos os torneios disponíveis por página\n",
    "    for pag in range(paginas):\n",
    "        for torneio in range(len(torneios)):\n",
    "            lista_torneios.append([pag+1, torneios[torneio]])\n",
    "        \n",
    "    return lista_torneios\n",
    "\n",
    "    \n"
   ]
  },
  {
   "cell_type": "markdown",
   "id": "72bd9892",
   "metadata": {},
   "source": [
    "\n",
    "##### Função que gera a URL"
   ]
  },
  {
   "cell_type": "code",
   "execution_count": 7,
   "id": "4ce72672",
   "metadata": {},
   "outputs": [],
   "source": [
    "def gerar_url(data_inicial, data_final = datetime.now):\n",
    "\n",
    "    datas = [\n",
    "        [(data_inicial + timedelta(days=n)).year,\n",
    "        (data_inicial + timedelta(days=n)).month,\n",
    "        (data_inicial + timedelta(days=n)).day]\n",
    "        for n in range((data_final - data_inicial).days + 1)\n",
    "    ]   \n",
    "\n",
    "    urls = []\n",
    "    pag = 1\n",
    "    for i in range(len(datas)):\n",
    "        ano = datas[i][0]\n",
    "        mes = datas[i][1]\n",
    "        dia = datas[i][2]\n",
    "        urls.append(f\"https://football.esportsbattle.com/api/tournaments?page={pag}&dateFrom={ano}%2F{mes}%2F{dia}+11%3A00&dateTo={ano}%2F{mes}%2F{dia+1}+02%3A59\")\n",
    "\n",
    "    return urls"
   ]
  }
 ],
 "metadata": {
  "kernelspec": {
   "display_name": "base",
   "language": "python",
   "name": "python3"
  },
  "language_info": {
   "codemirror_mode": {
    "name": "ipython",
    "version": 3
   },
   "file_extension": ".py",
   "mimetype": "text/x-python",
   "name": "python",
   "nbconvert_exporter": "python",
   "pygments_lexer": "ipython3",
   "version": "3.12.7"
  }
 },
 "nbformat": 4,
 "nbformat_minor": 5
}
