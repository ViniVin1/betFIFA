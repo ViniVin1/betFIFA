{
 "cells": [
  {
   "cell_type": "code",
   "execution_count": 9,
   "id": "575f0885",
   "metadata": {},
   "outputs": [],
   "source": [
    "import pandas as pd\n",
    "import time\n",
    "import csv\n",
    "from selenium import webdriver\n",
    "from selenium.webdriver.chrome.service import Service\n",
    "from selenium.webdriver.common.by import By\n",
    "from datetime import datetime, timedelta"
   ]
  },
  {
   "cell_type": "code",
   "execution_count": 10,
   "id": "7981bbe7",
   "metadata": {},
   "outputs": [],
   "source": [
    "def extrair_partidas(url, data):\n",
    "    service = Service()\n",
    "    options = webdriver.ChromeOptions()\n",
    "    options.add_argument('--start-maximized')\n",
    "    driver = webdriver.Chrome(service=service, options=options)\n",
    "    time.sleep(5)\n",
    "    driver.get(url)\n",
    "\n",
    "    time.sleep(10)\n",
    "    partidas = driver.find_elements(By.CLASS_NAME, 'tournament-matches-row')\n",
    "    lista_partidas = []\n",
    "\n",
    "    for i in range(len(partidas)):\n",
    "        partida = {}\n",
    "        linhas = partidas[i].text.split('\\n')\n",
    "        try:\n",
    "            partida['data'] = data\n",
    "            partida['time_casa'] = linhas[4]\n",
    "            partida['player_casa'] = linhas[5]\n",
    "            partida['gols_casa'] = int(linhas[6])\n",
    "            partida['gols_fora'] = int(linhas[8])\n",
    "            partida['player_fora'] = linhas[11]\n",
    "            partida['time_fora'] = linhas[10]\n",
    "            partida['total_gols'] = partida['gols_casa'] + partida['gols_fora']\n",
    "\n",
    "            total = partida['total_gols']\n",
    "            partida['+ 0.5'] = 'Sim' if total > 0.5 else 'Não'\n",
    "            partida['+ 1.5'] = 'Sim' if total > 1.5 else 'Não'\n",
    "            partida['+ 2.5'] = 'Sim' if total > 2.5 else 'Não'\n",
    "            partida['+ 3.5'] = 'Sim' if total > 3.5 else 'Não'\n",
    "\n",
    "            if partida['gols_casa'] > partida['gols_fora']:\n",
    "                partida['vencedor'] = 'Casa'\n",
    "            elif partida['gols_casa'] < partida['gols_fora']:\n",
    "                partida['vencedor'] = 'Fora'\n",
    "            else:\n",
    "                partida['vencedor'] = 'Empate'\n",
    "\n",
    "            lista_partidas.append(partida)\n",
    "        except Exception:\n",
    "            continue\n",
    "\n",
    "    driver.close()\n",
    "    driver.quit()\n",
    "    return lista_partidas"
   ]
  },
  {
   "cell_type": "code",
   "execution_count": 11,
   "id": "27b0ad3d",
   "metadata": {},
   "outputs": [],
   "source": [
    "def extrair_torneios(url):\n",
    "    service = Service()\n",
    "    options = webdriver.ChromeOptions()\n",
    "    options.add_argument('--start-maximized')\n",
    "    driver = webdriver.Chrome(service=service, options=options)\n",
    "    driver.get(url)\n",
    "    time.sleep(10)\n",
    "    links = driver.find_elements(By.CLASS_NAME, 'icon-link')\n",
    "    lista_torneios = [link.get_attribute('href') for link in links if link.get_attribute('href')]\n",
    "    driver.close()\n",
    "    driver.quit()\n",
    "    return lista_torneios\n",
    "\n"
   ]
  },
  {
   "cell_type": "code",
   "execution_count": 12,
   "id": "4ca0ab46",
   "metadata": {},
   "outputs": [],
   "source": [
    "def salvar(dados):\n",
    "    for i in range(len(dados)):\n",
    "        with open('../data/raw/base_jogos.csv', 'a', newline='', encoding='utf-8') as arquivo:\n",
    "            escrever = csv.writer(arquivo)\n",
    "            escrever.writerow([\n",
    "                dados[i]['data'], dados[i]['time_casa'], dados[i]['player_casa'],\n",
    "                dados[i]['gols_casa'], dados[i]['gols_fora'], dados[i]['player_fora'],\n",
    "                dados[i]['time_fora'], dados[i]['total_gols'], dados[i]['+ 0.5'],\n",
    "                dados[i]['+ 1.5'], dados[i]['+ 2.5'], dados[i]['+ 3.5'], dados[i]['vencedor']\n",
    "            ])"
   ]
  },
  {
   "cell_type": "code",
   "execution_count": 13,
   "id": "80781ee7",
   "metadata": {},
   "outputs": [
    {
     "ename": "FileNotFoundError",
     "evalue": "[Errno 2] No such file or directory: '../data/raw/base_jogos.csv'",
     "output_type": "error",
     "traceback": [
      "\u001b[1;31m---------------------------------------------------------------------------\u001b[0m",
      "\u001b[1;31mFileNotFoundError\u001b[0m                         Traceback (most recent call last)",
      "Cell \u001b[1;32mIn[13], line 11\u001b[0m\n\u001b[0;32m      9\u001b[0m \u001b[38;5;28;01mfor\u001b[39;00m link \u001b[38;5;129;01min\u001b[39;00m torneios:\n\u001b[0;32m     10\u001b[0m     partidas \u001b[38;5;241m=\u001b[39m extrair_partidas(link, data)\n\u001b[1;32m---> 11\u001b[0m     salvar(partidas)\n",
      "Cell \u001b[1;32mIn[12], line 3\u001b[0m, in \u001b[0;36msalvar\u001b[1;34m(dados)\u001b[0m\n\u001b[0;32m      1\u001b[0m \u001b[38;5;28;01mdef\u001b[39;00m \u001b[38;5;21msalvar\u001b[39m(dados):\n\u001b[0;32m      2\u001b[0m     \u001b[38;5;28;01mfor\u001b[39;00m i \u001b[38;5;129;01min\u001b[39;00m \u001b[38;5;28mrange\u001b[39m(\u001b[38;5;28mlen\u001b[39m(dados)):\n\u001b[1;32m----> 3\u001b[0m         \u001b[38;5;28;01mwith\u001b[39;00m \u001b[38;5;28mopen\u001b[39m(\u001b[38;5;124m'\u001b[39m\u001b[38;5;124m../data/raw/base_jogos.csv\u001b[39m\u001b[38;5;124m'\u001b[39m, \u001b[38;5;124m'\u001b[39m\u001b[38;5;124ma\u001b[39m\u001b[38;5;124m'\u001b[39m, newline\u001b[38;5;241m=\u001b[39m\u001b[38;5;124m'\u001b[39m\u001b[38;5;124m'\u001b[39m, encoding\u001b[38;5;241m=\u001b[39m\u001b[38;5;124m'\u001b[39m\u001b[38;5;124mutf-8\u001b[39m\u001b[38;5;124m'\u001b[39m) \u001b[38;5;28;01mas\u001b[39;00m arquivo:\n\u001b[0;32m      4\u001b[0m             escrever \u001b[38;5;241m=\u001b[39m csv\u001b[38;5;241m.\u001b[39mwriter(arquivo)\n\u001b[0;32m      5\u001b[0m             escrever\u001b[38;5;241m.\u001b[39mwriterow([\n\u001b[0;32m      6\u001b[0m                 dados[i][\u001b[38;5;124m'\u001b[39m\u001b[38;5;124mdata\u001b[39m\u001b[38;5;124m'\u001b[39m], dados[i][\u001b[38;5;124m'\u001b[39m\u001b[38;5;124mtime_casa\u001b[39m\u001b[38;5;124m'\u001b[39m], dados[i][\u001b[38;5;124m'\u001b[39m\u001b[38;5;124mplayer_casa\u001b[39m\u001b[38;5;124m'\u001b[39m],\n\u001b[0;32m      7\u001b[0m                 dados[i][\u001b[38;5;124m'\u001b[39m\u001b[38;5;124mgols_casa\u001b[39m\u001b[38;5;124m'\u001b[39m], dados[i][\u001b[38;5;124m'\u001b[39m\u001b[38;5;124mgols_fora\u001b[39m\u001b[38;5;124m'\u001b[39m], dados[i][\u001b[38;5;124m'\u001b[39m\u001b[38;5;124mplayer_fora\u001b[39m\u001b[38;5;124m'\u001b[39m],\n\u001b[0;32m      8\u001b[0m                 dados[i][\u001b[38;5;124m'\u001b[39m\u001b[38;5;124mtime_fora\u001b[39m\u001b[38;5;124m'\u001b[39m], dados[i][\u001b[38;5;124m'\u001b[39m\u001b[38;5;124mtotal_gols\u001b[39m\u001b[38;5;124m'\u001b[39m], dados[i][\u001b[38;5;124m'\u001b[39m\u001b[38;5;124m+ 0.5\u001b[39m\u001b[38;5;124m'\u001b[39m],\n\u001b[0;32m      9\u001b[0m                 dados[i][\u001b[38;5;124m'\u001b[39m\u001b[38;5;124m+ 1.5\u001b[39m\u001b[38;5;124m'\u001b[39m], dados[i][\u001b[38;5;124m'\u001b[39m\u001b[38;5;124m+ 2.5\u001b[39m\u001b[38;5;124m'\u001b[39m], dados[i][\u001b[38;5;124m'\u001b[39m\u001b[38;5;124m+ 3.5\u001b[39m\u001b[38;5;124m'\u001b[39m], dados[i][\u001b[38;5;124m'\u001b[39m\u001b[38;5;124mvencedor\u001b[39m\u001b[38;5;124m'\u001b[39m]\n\u001b[0;32m     10\u001b[0m             ])\n",
      "File \u001b[1;32mc:\\Users\\Windows\\anaconda3\\Lib\\site-packages\\IPython\\core\\interactiveshell.py:324\u001b[0m, in \u001b[0;36m_modified_open\u001b[1;34m(file, *args, **kwargs)\u001b[0m\n\u001b[0;32m    317\u001b[0m \u001b[38;5;28;01mif\u001b[39;00m file \u001b[38;5;129;01min\u001b[39;00m {\u001b[38;5;241m0\u001b[39m, \u001b[38;5;241m1\u001b[39m, \u001b[38;5;241m2\u001b[39m}:\n\u001b[0;32m    318\u001b[0m     \u001b[38;5;28;01mraise\u001b[39;00m \u001b[38;5;167;01mValueError\u001b[39;00m(\n\u001b[0;32m    319\u001b[0m         \u001b[38;5;124mf\u001b[39m\u001b[38;5;124m\"\u001b[39m\u001b[38;5;124mIPython won\u001b[39m\u001b[38;5;124m'\u001b[39m\u001b[38;5;124mt let you open fd=\u001b[39m\u001b[38;5;132;01m{\u001b[39;00mfile\u001b[38;5;132;01m}\u001b[39;00m\u001b[38;5;124m by default \u001b[39m\u001b[38;5;124m\"\u001b[39m\n\u001b[0;32m    320\u001b[0m         \u001b[38;5;124m\"\u001b[39m\u001b[38;5;124mas it is likely to crash IPython. If you know what you are doing, \u001b[39m\u001b[38;5;124m\"\u001b[39m\n\u001b[0;32m    321\u001b[0m         \u001b[38;5;124m\"\u001b[39m\u001b[38;5;124myou can use builtins\u001b[39m\u001b[38;5;124m'\u001b[39m\u001b[38;5;124m open.\u001b[39m\u001b[38;5;124m\"\u001b[39m\n\u001b[0;32m    322\u001b[0m     )\n\u001b[1;32m--> 324\u001b[0m \u001b[38;5;28;01mreturn\u001b[39;00m io_open(file, \u001b[38;5;241m*\u001b[39margs, \u001b[38;5;241m*\u001b[39m\u001b[38;5;241m*\u001b[39mkwargs)\n",
      "\u001b[1;31mFileNotFoundError\u001b[0m: [Errno 2] No such file or directory: '../data/raw/base_jogos.csv'"
     ]
    }
   ],
   "source": [
    "# Exemplo de uso manual (pode ser executado como script ou via %run)\n",
    "if __name__ == \"__main__\":\n",
    "    datas = [(datetime(2025, 8, 1) + timedelta(days=n)).strftime('%Y-%m-%d') \n",
    "              for n in range((datetime(2025, 8, 1) - datetime(2025, 8, 1)).days + 1)]\n",
    "    for data in datas:\n",
    "        url = f\"https://football.esportsbattle.com/en/schedule?page=1&dateFrom={data.replace('-', '/')}+08%3A00&dateTo={data.replace('-', '/')}+23%3A59\"\n",
    "        # url = f\"https://football.esportsbattle.com/api/tournaments?page=1&dateFrom={data.replace('-', '/')}+11%3A00&dateTo={data.replace('-', '/')}+02%3A59\"\n",
    "        torneios = extrair_torneios(url)\n",
    "        for link in torneios:\n",
    "            partidas = extrair_partidas(link, data)\n",
    "            salvar(partidas)\n"
   ]
  },
  {
   "cell_type": "code",
   "execution_count": null,
   "id": "31e6e948",
   "metadata": {},
   "outputs": [
    {
     "name": "stderr",
     "output_type": "stream",
     "text": [
      "\n",
      "KeyboardInterrupt\n",
      "\n"
     ]
    }
   ],
   "source": [
    "extrair_torneios(url)"
   ]
  }
 ],
 "metadata": {
  "kernelspec": {
   "display_name": "base",
   "language": "python",
   "name": "python3"
  },
  "language_info": {
   "codemirror_mode": {
    "name": "ipython",
    "version": 3
   },
   "file_extension": ".py",
   "mimetype": "text/x-python",
   "name": "python",
   "nbconvert_exporter": "python",
   "pygments_lexer": "ipython3",
   "version": "3.12.7"
  }
 },
 "nbformat": 4,
 "nbformat_minor": 5
}
