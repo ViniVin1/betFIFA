{
 "cells": [
  {
   "cell_type": "markdown",
   "id": "010ae9be",
   "metadata": {},
   "source": [
    "#"
   ]
  },
  {
   "cell_type": "markdown",
   "id": "54970a0e",
   "metadata": {},
   "source": [
    "## Scraping.ipynb\n",
    "\n",
    "---\n",
    "\n",
    "Notebook tem como objetivo extrair dados de partidas do site https://football.esportsbattle.com/en/ e salvar em um arquivo .csv"
   ]
  },
  {
   "cell_type": "code",
   "execution_count": 107,
   "id": "a12463cd",
   "metadata": {},
   "outputs": [],
   "source": [
    "import pandas as pd\n",
    "import requests, time, random, json\n",
    "from tqdm import tqdm\n",
    "from requests.adapters import HTTPAdapter\n",
    "from datetime import datetime, timedelta\n",
    "from urllib3.util.retry import Retry\n"
   ]
  },
  {
   "cell_type": "markdown",
   "id": "72bd9892",
   "metadata": {},
   "source": [
    "\n",
    "##### gerar_url()\n",
    "\n",
    "Função que recebe uma data de referência e gera uma lista de URLs que busca os torneios"
   ]
  },
  {
   "cell_type": "code",
   "execution_count": 108,
   "id": "4ce72672",
   "metadata": {},
   "outputs": [],
   "source": [
    "def gerar_url(data_inicial, data_final = datetime.now()):\n",
    "\n",
    "    datas = [\n",
    "        [(data_inicial + timedelta(days=n)).year,\n",
    "        (data_inicial + timedelta(days=n)).month,\n",
    "        (data_inicial + timedelta(days=n)).day]\n",
    "        for n in range((data_final - data_inicial).days + 1)\n",
    "    ]   \n",
    "\n",
    "    datas_url = []\n",
    "    pag = 1 \n",
    "    for i in range(len(datas)):\n",
    "        ano = datas[i][0]\n",
    "        mes = datas[i][1]\n",
    "        dia = datas[i][2]\n",
    "        if mes in [1,3,5,7,8,10,12] and dia == 31:\n",
    "            datas_url.append(f\"https://football.esportsbattle.com/api/tournaments?page={pag}&dateFrom={ano}%2F{mes}%2F{dia}+11%3A00&dateTo={ano}%2F{mes}%2F{1}+02%3A59\")\n",
    "        elif mes == 2 and dia == 28:\n",
    "            datas_url.append(f\"https://football.esportsbattle.com/api/tournaments?page={pag}&dateFrom={ano}%2F{mes}%2F{dia}+11%3A00&dateTo={ano}%2F{mes}%2F{1}+02%3A59\")\n",
    "        else:\n",
    "            datas_url.append(f\"https://football.esportsbattle.com/api/tournaments?page={pag}&dateFrom={ano}%2F{mes}%2F{dia}+11%3A00&dateTo={ano}%2F{mes}%2F{dia+1}+02%3A59\")\n",
    "\n",
    "    print(f\"{len(datas_url)} URLs geradas\")\n",
    "    return datas_url"
   ]
  },
  {
   "cell_type": "code",
   "execution_count": 109,
   "id": "d6756120",
   "metadata": {},
   "outputs": [
    {
     "name": "stdout",
     "output_type": "stream",
     "text": [
      "2 URLs geradas\n"
     ]
    }
   ],
   "source": [
    "data = gerar_url(datetime(2025,1,1), datetime(2025,1,2))"
   ]
  },
  {
   "cell_type": "code",
   "execution_count": 110,
   "id": "00e5607b",
   "metadata": {},
   "outputs": [],
   "source": [
    "def pega_torneios(datas_url):\n",
    "    lista_torneios = []  # Lista de todos os torneios disponíveis por página\n",
    "    print('Extraindo Torneios...')\n",
    "    for url in tqdm(datas_url):\n",
    "        try:\n",
    "            response = requests.get(url)\n",
    "            response.raise_for_status()  # Lança erro se status != 200\n",
    "            json_torneios = response.json()\n",
    "\n",
    "            paginas = json_torneios.get('totalPages', 0)\n",
    "            torneios = json_torneios.get('tournaments', [])\n",
    "\n",
    "            for pag in range(paginas):\n",
    "                for torneio in torneios:\n",
    "                    lista_torneios.append([pag + 1, torneio])\n",
    "\n",
    "        except Exception as e:\n",
    "            print(f\"[AVISO] Erro ao processar URL: {url}\")\n",
    "            print(f\"Motivo: {e}\\n\")\n",
    "            continue\n",
    "\n",
    "    print(f\"{len(lista_torneios)} torneios gerados.\")\n",
    "    return lista_torneios\n"
   ]
  },
  {
   "cell_type": "markdown",
   "id": "2007e22e",
   "metadata": {},
   "source": [
    "##### Função que pega todas as partidas por torneio"
   ]
  },
  {
   "cell_type": "code",
   "execution_count": 111,
   "id": "77729610",
   "metadata": {},
   "outputs": [],
   "source": [
    "def pega_partidas(lista_torneios):\n",
    "    \n",
    "    print('Extraindo partidas...')\n",
    "    lista_partidas = []\n",
    "    for i in tqdm(range(len(lista_torneios))):\n",
    "        # pag = lista_torneios[i][0]\n",
    "        id_torneio = lista_torneios[i][1]['id']\n",
    "\n",
    "        lista_partidas.append(f'https://football.esportsbattle.com/api/tournaments/{id_torneio}/matches')\n",
    "\n",
    "    print(f\"{len(lista_partidas)} partidas geradas\")\n",
    "    return lista_partidas"
   ]
  },
  {
   "cell_type": "markdown",
   "id": "994b94e9",
   "metadata": {},
   "source": [
    "### Configurações"
   ]
  },
  {
   "cell_type": "code",
   "execution_count": 112,
   "id": "06e9c265",
   "metadata": {},
   "outputs": [],
   "source": [
    "# ---- sessão global robusta (1x por processo) ----\n",
    "_session = requests.Session()\n",
    "_session.headers.update({\n",
    "    \"User-Agent\": \"Mozilla/5.0\",\n",
    "    \"Accept\": \"application/json\",\n",
    "    \"Connection\": \"keep-alive\",\n",
    "    \"Referer\": \"https://football.esportsbattle.com/\"\n",
    "})\n",
    "_retry = Retry(\n",
    "    total=5,                      # nº máximo de tentativas\n",
    "    backoff_factor=0.7,           # 0.7s, 1.4s, 2.8s, 5.6s, ...\n",
    "    status_forcelist=(429, 500, 502, 503, 504),\n",
    "    allowed_methods=[\"GET\"],\n",
    "    raise_on_status=False\n",
    ")\n",
    "_adapter = HTTPAdapter(max_retries=_retry, pool_connections=20, pool_maxsize=50)\n",
    "_session.mount(\"http://\", _adapter)\n",
    "_session.mount(\"https://\", _adapter)"
   ]
  },
  {
   "cell_type": "code",
   "execution_count": 113,
   "id": "5cd5c651",
   "metadata": {},
   "outputs": [],
   "source": [
    "def _get_json(url, timeout=(5, 20), tries_extra=3):\n",
    "    \"\"\"GET + JSON com proteção a desconexão sem resposta.\"\"\"\n",
    "    for t in range(tries_extra):\n",
    "        try:\n",
    "            r = _session.get(url, timeout=timeout)\n",
    "            if r.status_code != 200:\n",
    "                # algumas APIs retornam HTML de erro; log mínimo e retry\n",
    "                raise requests.HTTPError(f\"status={r.status_code}\")\n",
    "            # às vezes a resposta vem vazia/HTML e quebra .json()\n",
    "            return r.json()\n",
    "        except (requests.exceptions.JSONDecodeError,\n",
    "                requests.exceptions.ConnectionError,\n",
    "                requests.exceptions.ReadTimeout,\n",
    "                requests.exceptions.ChunkedEncodingError,\n",
    "                requests.exceptions.HTTPError) as e:\n",
    "            # backoff exponencial com jitter\n",
    "            wait = (0.5 * (2 ** t)) + random.uniform(0, 0.4)\n",
    "            print(f\"[AVISO] Falha em {url} ({type(e).__name__}). Tentando de novo em {wait:.1f}s...\")\n",
    "            time.sleep(wait)\n",
    "    # desistiu desta URL\n",
    "    print(f\"[ERRO] Desisti de {url}\")\n",
    "    return None"
   ]
  },
  {
   "cell_type": "code",
   "execution_count": null,
   "id": "a4ac6fe5",
   "metadata": {},
   "outputs": [],
   "source": [
    "def pega_resultados(lista_partidas):\n",
    "\n",
    "    print('Extraindo resultados...')\n",
    "    # Aceitar string única também\n",
    "    if isinstance(lista_partidas, str):\n",
    "        lista_partidas = [lista_partidas]\n",
    "\n",
    "    dfs = []\n",
    "    for url in tqdm(lista_partidas):\n",
    "        js = _get_json(url)\n",
    "        if not js:\n",
    "            continue\n",
    "\n",
    "        # endpoint as vezes é lista ou dict com 'matches'\n",
    "        if isinstance(js, dict) and \"matches\" in js:\n",
    "            payload = js[\"matches\"]\n",
    "        else:\n",
    "            payload = js\n",
    "\n",
    "        if not payload:\n",
    "            continue\n",
    "\n",
    "        df_json = pd.json_normalize(payload)\n",
    "        dfs.append(df_json)\n",
    "\n",
    "        # opcional: pequeno intervalo pra não sobrecarregar servidor\n",
    "        time.sleep(0.15)\n",
    "\n",
    "    if dfs:\n",
    "        return pd.concat(dfs, ignore_index=True)\n",
    "    \n",
    "    return pd.DataFrame()"
   ]
  },
  {
   "cell_type": "code",
   "execution_count": 115,
   "id": "04b649e0",
   "metadata": {},
   "outputs": [],
   "source": [
    "def gerar_base(data_inicial, data_final = datetime.now()):\n",
    "    urls = gerar_url(data_inicial, data_final)\n",
    "    torneios = pega_torneios(urls)\n",
    "    partidas = pega_partidas(torneios)\n",
    "    jogos = pega_resultados(partidas)\n"
   ]
  },
  {
   "cell_type": "code",
   "execution_count": null,
   "id": "eb594804",
   "metadata": {},
   "outputs": [],
   "source": [
    "if __name__ == \"__main__\":\n",
    "    gerar_base(datetime(2025,1,1))"
   ]
  },
  {
   "cell_type": "code",
   "execution_count": null,
   "id": "a19f7db4",
   "metadata": {},
   "outputs": [],
   "source": [
    "# jogos.to_csv(\"../../data/raw/base_partidas_raw.csv\", index=False, encoding='utf-8')"
   ]
  }
 ],
 "metadata": {
  "kernelspec": {
   "display_name": "base",
   "language": "python",
   "name": "python3"
  },
  "language_info": {
   "codemirror_mode": {
    "name": "ipython",
    "version": 3
   },
   "file_extension": ".py",
   "mimetype": "text/x-python",
   "name": "python",
   "nbconvert_exporter": "python",
   "pygments_lexer": "ipython3",
   "version": "3.12.7"
  }
 },
 "nbformat": 4,
 "nbformat_minor": 5
}
