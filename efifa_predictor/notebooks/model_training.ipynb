{
 "cells": [
  {
   "cell_type": "code",
   "execution_count": 64,
   "id": "12918319",
   "metadata": {},
   "outputs": [],
   "source": [
    "import pandas as pd\n",
    "from tqdm import tqdm\n",
    "import pathlib\n",
    "import numpy as np\n",
    "import seaborn as sns\n",
    "import matplotlib.pyplot as plt\n",
    "import plotly.express as px\n",
    "from sklearn.metrics import r2_score, mean_squared_error\n",
    "from sklearn.linear_model import LinearRegression\n",
    "from sklearn.ensemble import RandomForestRegressor, ExtraTreesRegressor\n",
    "from sklearn.model_selection import train_test_split\n",
    "pd.set_option('display.max_columns', None)\n",
    "warnings.filterwarnings(\"ignore\")"
   ]
  },
  {
   "cell_type": "code",
   "execution_count": 65,
   "id": "91545e62",
   "metadata": {},
   "outputs": [],
   "source": [
    "df = pd.read_csv('../data/trusted/base_numerica_trusted.csv')\n",
    "# df.head(5).to_csv('../data/exports/base_example.csv', index=False, encoding='utf-8')"
   ]
  },
  {
   "cell_type": "markdown",
   "id": "bad1c41e",
   "metadata": {},
   "source": [
    "### Função para avaliar o modelo"
   ]
  },
  {
   "cell_type": "code",
   "execution_count": 66,
   "id": "d86ff209",
   "metadata": {},
   "outputs": [],
   "source": [
    "def avaliar_modelo(nome_modelo, y_teste, previsao):\n",
    "    r2 = r2_score(y_teste, previsao)\n",
    "    RSME = np.sqrt(mean_squared_error(y_teste, previsao))\n",
    "    return f'Modelo {nome_modelo}:\\nR²:{r2:.2%}\\nRSME:{RSME:.2f}'"
   ]
  },
  {
   "cell_type": "code",
   "execution_count": 67,
   "id": "fcc7e23d",
   "metadata": {},
   "outputs": [
    {
     "data": {
      "text/html": [
       "<div>\n",
       "<style scoped>\n",
       "    .dataframe tbody tr th:only-of-type {\n",
       "        vertical-align: middle;\n",
       "    }\n",
       "\n",
       "    .dataframe tbody tr th {\n",
       "        vertical-align: top;\n",
       "    }\n",
       "\n",
       "    .dataframe thead th {\n",
       "        text-align: right;\n",
       "    }\n",
       "</style>\n",
       "<table border=\"1\" class=\"dataframe\">\n",
       "  <thead>\n",
       "    <tr style=\"text-align: right;\">\n",
       "      <th></th>\n",
       "      <th>id_player_casa</th>\n",
       "      <th>gols_casa</th>\n",
       "      <th>id_time_casa</th>\n",
       "      <th>id_player_fora</th>\n",
       "      <th>gols_fora</th>\n",
       "      <th>id_time_fora</th>\n",
       "      <th>gols_total</th>\n",
       "      <th>id_resultado</th>\n",
       "    </tr>\n",
       "  </thead>\n",
       "  <tbody>\n",
       "    <tr>\n",
       "      <th>0</th>\n",
       "      <td>603262</td>\n",
       "      <td>3</td>\n",
       "      <td>21</td>\n",
       "      <td>603265</td>\n",
       "      <td>3</td>\n",
       "      <td>6</td>\n",
       "      <td>6</td>\n",
       "      <td>0</td>\n",
       "    </tr>\n",
       "  </tbody>\n",
       "</table>\n",
       "</div>"
      ],
      "text/plain": [
       "   id_player_casa  gols_casa  id_time_casa  id_player_fora  gols_fora  \\\n",
       "0          603262          3            21          603265          3   \n",
       "\n",
       "   id_time_fora  gols_total  id_resultado  \n",
       "0             6           6             0  "
      ]
     },
     "execution_count": 67,
     "metadata": {},
     "output_type": "execute_result"
    }
   ],
   "source": [
    "df.head(1)"
   ]
  },
  {
   "cell_type": "markdown",
   "id": "ddb97bc2",
   "metadata": {},
   "source": [
    "#### Modelos\n",
    "##### Escolha dos Modelos a Serem Testados para número de gols\n",
    "- RandomForest\n",
    "- LinearRegression\n",
    "- Extra Tree"
   ]
  },
  {
   "cell_type": "code",
   "execution_count": 68,
   "id": "30819d20",
   "metadata": {},
   "outputs": [],
   "source": [
    "modelo_rf = RandomForestRegressor()\n",
    "modelo_lr = LinearRegression()\n",
    "modelo_et = ExtraTreesRegressor()\n",
    "\n",
    "modelos = {'RandomForest': modelo_rf,\n",
    "          'LinearRegression': modelo_lr,\n",
    "          'ExtraTrees': modelo_et,\n",
    "          }\n",
    "\n",
    "y = df['gols_total'] # Alvo do modelo\n",
    "x = df.drop(['gols_total', 'gols_casa', 'gols_fora'], axis=1) # Features sem dados pós jogo\n"
   ]
  },
  {
   "cell_type": "markdown",
   "id": "e64b8693",
   "metadata": {},
   "source": [
    "#### Separação dos dados de treino e teste"
   ]
  },
  {
   "cell_type": "code",
   "execution_count": 69,
   "id": "49d19536",
   "metadata": {},
   "outputs": [
    {
     "name": "stderr",
     "output_type": "stream",
     "text": [
      "  0%|          | 0/3 [00:00<?, ?it/s]"
     ]
    },
    {
     "name": "stdout",
     "output_type": "stream",
     "text": [
      "Iniciando treino\n",
      "Modelo: RandomForest\n",
      "Iniciando previsão\n",
      "Modelo: RandomForest\n"
     ]
    },
    {
     "name": "stderr",
     "output_type": "stream",
     "text": [
      " 33%|███▎      | 1/3 [00:57<01:55, 57.69s/it]"
     ]
    },
    {
     "name": "stdout",
     "output_type": "stream",
     "text": [
      "Modelo RandomForest:\n",
      "R²:60.88%\n",
      "RSME:1.50\n",
      "Iniciando treino\n",
      "Modelo: LinearRegression\n"
     ]
    },
    {
     "name": "stderr",
     "output_type": "stream",
     "text": [
      " 67%|██████▋   | 2/3 [00:58<00:24, 24.21s/it]"
     ]
    },
    {
     "name": "stdout",
     "output_type": "stream",
     "text": [
      "Iniciando previsão\n",
      "Modelo: LinearRegression\n",
      "Modelo LinearRegression:\n",
      "R²:2.33%\n",
      "RSME:2.37\n",
      "Iniciando treino\n",
      "Modelo: ExtraTrees\n",
      "Iniciando previsão\n",
      "Modelo: ExtraTrees\n"
     ]
    },
    {
     "name": "stderr",
     "output_type": "stream",
     "text": [
      "100%|██████████| 3/3 [01:19<00:00, 26.65s/it]"
     ]
    },
    {
     "name": "stdout",
     "output_type": "stream",
     "text": [
      "Modelo ExtraTrees:\n",
      "R²:67.94%\n",
      "RSME:1.36\n"
     ]
    },
    {
     "name": "stderr",
     "output_type": "stream",
     "text": [
      "\n"
     ]
    }
   ],
   "source": [
    "x_treino, x_teste, y_train, y_test = train_test_split(x, y, random_state=10)\n",
    "\n",
    "for nome_modelo, modelo in tqdm(modelos.items()):\n",
    "    # Treinar\n",
    "    print('Iniciando treino')\n",
    "    print(f'Modelo: {nome_modelo}')\n",
    "    modelo.fit(x_treino, y_train)\n",
    "\n",
    "    # Testar\n",
    "    print('Iniciando previsão')\n",
    "    print(f'Modelo: {nome_modelo}')\n",
    "    previsao = modelo.predict(x_teste)\n",
    "    print(avaliar_modelo(nome_modelo, y_test, previsao))"
   ]
  }
 ],
 "metadata": {
  "kernelspec": {
   "display_name": "base",
   "language": "python",
   "name": "python3"
  },
  "language_info": {
   "codemirror_mode": {
    "name": "ipython",
    "version": 3
   },
   "file_extension": ".py",
   "mimetype": "text/x-python",
   "name": "python",
   "nbconvert_exporter": "python",
   "pygments_lexer": "ipython3",
   "version": "3.12.7"
  }
 },
 "nbformat": 4,
 "nbformat_minor": 5
}
