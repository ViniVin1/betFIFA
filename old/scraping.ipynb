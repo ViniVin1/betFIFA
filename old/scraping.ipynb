{
 "cells": [
  {
   "cell_type": "markdown",
   "metadata": {},
   "source": [
    "##### Bibliotecas"
   ]
  },
  {
   "cell_type": "code",
   "execution_count": 1,
   "metadata": {},
   "outputs": [],
   "source": [
    "import pandas as pd\n",
    "import time\n",
    "import csv\n",
    "from selenium import webdriver\n",
    "from selenium.webdriver.chrome.service import Service\n",
    "from selenium.webdriver.common.by import By\n",
    "from datetime import datetime, timedelta"
   ]
  },
  {
   "cell_type": "markdown",
   "metadata": {},
   "source": [
    "##### Funções"
   ]
  },
  {
   "cell_type": "code",
   "execution_count": 2,
   "metadata": {},
   "outputs": [],
   "source": [
    "def extrair_partidas(url, data):\n",
    "    service = Service() # Usada para iniciar uma instância do Chrome\n",
    "    options = webdriver.ChromeOptions()\n",
    "    options.add_argument('--start-maximized') # Define a preferência de browser para o Chrome\n",
    "    driver = webdriver.Chrome(service=service, options=options) # Inicia a instância\n",
    "    time.sleep(5)\n",
    "    driver.get(url)\n",
    "\n",
    "    time.sleep(10)\n",
    "    partidas = driver.find_elements(By.CLASS_NAME, 'tournament-matches-row')\n",
    "    lista_partidas = []\n",
    "\n",
    "    # Pega dados\n",
    "    for i in range(len(partidas)):\n",
    "        partida = {}\n",
    "        partida['data'] = data\n",
    "        partida['time_casa'] = partidas[i].text.split('\\n')[4]\n",
    "        partida['player_casa'] = partidas[i].text.split('\\n')[5]\n",
    "        partida['gols_casa'] = int(partidas[i].text.split('\\n')[6])\n",
    "        partida['gols_fora'] = int(partidas[i].text.split('\\n')[8])\n",
    "        partida['player_fora'] = partidas[i].text.split('\\n')[11]\n",
    "        partida['time_fora'] = partidas[i].text.split('\\n')[10]\n",
    "        partida['total_gols'] = partida['gols_casa'] + partida['gols_fora']\n",
    "        \n",
    "        # Gols\n",
    "        if partida['total_gols'] > 3.5:\n",
    "            partida['+ 0.5'] = 'Sim'\n",
    "            partida['+ 1.5'] = 'Sim'\n",
    "            partida['+ 2.5'] = 'Sim'\n",
    "            partida['+ 3.5'] = 'Sim'\n",
    "        else:\n",
    "            if partida['total_gols'] > 2.5:\n",
    "                partida['+ 0.5'] = 'Sim'\n",
    "                partida['+ 1.5'] = 'Sim'\n",
    "                partida['+ 2.5'] = 'Sim'\n",
    "                partida['+ 3.5'] = 'Não'\n",
    "            else:\n",
    "                if partida['total_gols'] > 1.5:\n",
    "                    partida['+ 0.5'] = 'Sim'\n",
    "                    partida['+ 1.5'] = 'Sim'\n",
    "                    partida['+ 2.5'] = 'Não'\n",
    "                    partida['+ 3.5'] = 'Não'\n",
    "                else:\n",
    "                    if partida['total_gols'] > 0.5:\n",
    "                        partida['+ 0.5'] = 'Sim'\n",
    "                        partida['+ 1.5'] = 'Não'\n",
    "                        partida['+ 2.5'] = 'Não'\n",
    "                        partida['+ 3.5'] = 'Não'\n",
    "                    else:\n",
    "                        partida['+ 0.5'] = 'Não'\n",
    "                        partida['+ 1.5'] = 'Não'\n",
    "                        partida['+ 2.5'] = 'Não'\n",
    "                        partida['+ 3.5'] = 'Não'\n",
    "\n",
    "        \n",
    "        # Vitoria\n",
    "        if partida['gols_casa'] > partida['gols_fora']:\n",
    "            partida['vencedor'] = 'Casa'\n",
    "        elif partida['gols_casa'] < partida['gols_fora']:\n",
    "            partida['vencedor'] = 'Fora'\n",
    "        else:\n",
    "            partida['vencedor'] = 'Empate'\n",
    "        \n",
    "\n",
    "\n",
    "        lista_partidas.append(partida)\n",
    "        \n",
    "    driver.close()\n",
    "    driver.quit()\n",
    "    return lista_partidas\n",
    "\n",
    "def extrair_torneios(url):\n",
    "    service = Service() # Usada para iniciar uma instância do Chrome\n",
    "    options = webdriver.ChromeOptions()\n",
    "    options.add_argument('--start-maximized') # Define a preferência de browser para o Chrome\n",
    "    driver = webdriver.Chrome(service=service, options=options) # Inicia a instância\n",
    "    driver.get(url)\n",
    "    time.sleep(10)\n",
    "    links = driver.find_elements(By.CLASS_NAME, 'icon-link')\n",
    "\n",
    "    lista_torneios = []\n",
    "    for i in range(len(links)):\n",
    "        lista_torneios.append(links[i].get_attribute('href'))\n",
    "\n",
    "    return lista_torneios\n",
    "\n",
    "def salvar(dados):\n",
    "    dados = dados\n",
    "    for i in range(len(dados)):\n",
    "        with open('base_jogos.csv', 'a', newline='', encoding='utf-8') as arquivo:\n",
    "            escrever = csv.writer(arquivo)\n",
    "            escrever.writerow([dados[i]['data'], dados[i]['time_casa'], dados[i]['player_casa'], \n",
    "            dados[i]['gols_casa'], dados[i]['gols_fora'], dados[i]['player_fora'], dados[i]['time_fora'], \n",
    "            dados[i]['total_gols'], dados[i]['+ 0.5'], dados[i]['+ 1.5'],dados[i]['+ 2.5'],\n",
    "            dados[i]['+ 3.5'], dados[i]['vencedor']])\n",
    "    \n"
   ]
  },
  {
   "cell_type": "markdown",
   "metadata": {},
   "source": [
    "##### Preparação"
   ]
  },
  {
   "cell_type": "code",
   "execution_count": 3,
   "metadata": {},
   "outputs": [],
   "source": [
    "# Cria uma lista de datas\n",
    "list_datas = [(datetime(2025, 8, 1) + timedelta(days=n)).strftime('%Y-%m-%d') \n",
    "              for n in range((datetime(2025, 8, 1) - datetime(2022, 1, 1)).days + 1)]\n",
    "\n",
    "# Cria um lista de URLs com as datas\n",
    "pags_urls = []\n",
    "for i in range(len(list_datas)):\n",
    "    url = f\"https://football.esportsbattle.com/en/schedule?page=1&dateFrom={list_datas[i].split('-')[0]}%2F{list_datas[i].split('-')[1]}%2F{list_datas[i].split('-')[2]}+08%3A00&dateTo={list_datas[i].split('-')[0]}%2F{list_datas[i].split('-')[1]}%2F{list_datas[i].split('-')[2]}+23%3A59\"\n",
    "    pags_urls.append(url)    "
   ]
  },
  {
   "cell_type": "markdown",
   "metadata": {},
   "source": [
    "##### Inicialização das Funções"
   ]
  },
  {
   "cell_type": "code",
   "execution_count": 4,
   "metadata": {},
   "outputs": [
    {
     "ename": "InvalidSessionIdException",
     "evalue": "Message: invalid session id: session deleted as the browser has closed the connection\nfrom disconnected: not connected to DevTools\n  (Session info: chrome=138.0.7204.184); For documentation on this error, please visit: https://www.selenium.dev/documentation/webdriver/troubleshooting/errors#invalidsessionidexception\nStacktrace:\n\tGetHandleVerifier [0x0x7ff79e18e415+77285]\n\tGetHandleVerifier [0x0x7ff79e18e470+77376]\n\t(No symbol) [0x0x7ff79df59a6a]\n\t(No symbol) [0x0x7ff79df45cf5]\n\t(No symbol) [0x0x7ff79df6a7fa]\n\t(No symbol) [0x0x7ff79dfdfc05]\n\t(No symbol) [0x0x7ff79e000192]\n\t(No symbol) [0x0x7ff79dfd83e3]\n\t(No symbol) [0x0x7ff79dfa1521]\n\t(No symbol) [0x0x7ff79dfa22b3]\n\tGetHandleVerifier [0x0x7ff79e471efd+3107021]\n\tGetHandleVerifier [0x0x7ff79e46c29d+3083373]\n\tGetHandleVerifier [0x0x7ff79e48bedd+3213485]\n\tGetHandleVerifier [0x0x7ff79e1a884e+184862]\n\tGetHandleVerifier [0x0x7ff79e1b055f+216879]\n\tGetHandleVerifier [0x0x7ff79e197084+113236]\n\tGetHandleVerifier [0x0x7ff79e197239+113673]\n\tGetHandleVerifier [0x0x7ff79e17e298+11368]\n\tBaseThreadInitThunk [0x0x7ffd2022e8d7+23]\n\tRtlUserThreadStart [0x0x7ffd217fc34c+44]\n",
     "output_type": "error",
     "traceback": [
      "\u001b[1;31m---------------------------------------------------------------------------\u001b[0m",
      "\u001b[1;31mInvalidSessionIdException\u001b[0m                 Traceback (most recent call last)",
      "Cell \u001b[1;32mIn[4], line 5\u001b[0m\n\u001b[0;32m      3\u001b[0m torneios \u001b[38;5;241m=\u001b[39m extrair_torneios(url)\n\u001b[0;32m      4\u001b[0m \u001b[38;5;28;01mfor\u001b[39;00m torneio \u001b[38;5;129;01min\u001b[39;00m torneios:\n\u001b[1;32m----> 5\u001b[0m     partidas \u001b[38;5;241m=\u001b[39m extrair_partidas(torneio, list_datas[cont])\n\u001b[0;32m      6\u001b[0m     salvar(partidas)\n\u001b[0;32m      7\u001b[0m cont \u001b[38;5;241m+\u001b[39m\u001b[38;5;241m=\u001b[39m \u001b[38;5;241m1\u001b[39m\n",
      "Cell \u001b[1;32mIn[2], line 10\u001b[0m, in \u001b[0;36mextrair_partidas\u001b[1;34m(url, data)\u001b[0m\n\u001b[0;32m      7\u001b[0m driver\u001b[38;5;241m.\u001b[39mget(url)\n\u001b[0;32m      9\u001b[0m time\u001b[38;5;241m.\u001b[39msleep(\u001b[38;5;241m10\u001b[39m)\n\u001b[1;32m---> 10\u001b[0m partidas \u001b[38;5;241m=\u001b[39m driver\u001b[38;5;241m.\u001b[39mfind_elements(By\u001b[38;5;241m.\u001b[39mCLASS_NAME, \u001b[38;5;124m'\u001b[39m\u001b[38;5;124mtournament-matches-row\u001b[39m\u001b[38;5;124m'\u001b[39m)\n\u001b[0;32m     11\u001b[0m lista_partidas \u001b[38;5;241m=\u001b[39m []\n\u001b[0;32m     13\u001b[0m \u001b[38;5;66;03m# Pega dados\u001b[39;00m\n",
      "File \u001b[1;32mc:\\Users\\Windows\\anaconda3\\Lib\\site-packages\\selenium\\webdriver\\remote\\webdriver.py:963\u001b[0m, in \u001b[0;36mWebDriver.find_elements\u001b[1;34m(self, by, value)\u001b[0m\n\u001b[0;32m    959\u001b[0m     \u001b[38;5;28;01mreturn\u001b[39;00m \u001b[38;5;28mself\u001b[39m\u001b[38;5;241m.\u001b[39mexecute_script(find_element_js, by\u001b[38;5;241m.\u001b[39mto_dict())\n\u001b[0;32m    961\u001b[0m \u001b[38;5;66;03m# Return empty list if driver returns null\u001b[39;00m\n\u001b[0;32m    962\u001b[0m \u001b[38;5;66;03m# See https://github.com/SeleniumHQ/selenium/issues/4555\u001b[39;00m\n\u001b[1;32m--> 963\u001b[0m \u001b[38;5;28;01mreturn\u001b[39;00m \u001b[38;5;28mself\u001b[39m\u001b[38;5;241m.\u001b[39mexecute(Command\u001b[38;5;241m.\u001b[39mFIND_ELEMENTS, {\u001b[38;5;124m\"\u001b[39m\u001b[38;5;124musing\u001b[39m\u001b[38;5;124m\"\u001b[39m: by, \u001b[38;5;124m\"\u001b[39m\u001b[38;5;124mvalue\u001b[39m\u001b[38;5;124m\"\u001b[39m: value})[\u001b[38;5;124m\"\u001b[39m\u001b[38;5;124mvalue\u001b[39m\u001b[38;5;124m\"\u001b[39m] \u001b[38;5;129;01mor\u001b[39;00m []\n",
      "File \u001b[1;32mc:\\Users\\Windows\\anaconda3\\Lib\\site-packages\\selenium\\webdriver\\remote\\webdriver.py:454\u001b[0m, in \u001b[0;36mWebDriver.execute\u001b[1;34m(self, driver_command, params)\u001b[0m\n\u001b[0;32m    451\u001b[0m response \u001b[38;5;241m=\u001b[39m cast(RemoteConnection, \u001b[38;5;28mself\u001b[39m\u001b[38;5;241m.\u001b[39mcommand_executor)\u001b[38;5;241m.\u001b[39mexecute(driver_command, params)\n\u001b[0;32m    453\u001b[0m \u001b[38;5;28;01mif\u001b[39;00m response:\n\u001b[1;32m--> 454\u001b[0m     \u001b[38;5;28mself\u001b[39m\u001b[38;5;241m.\u001b[39merror_handler\u001b[38;5;241m.\u001b[39mcheck_response(response)\n\u001b[0;32m    455\u001b[0m     response[\u001b[38;5;124m\"\u001b[39m\u001b[38;5;124mvalue\u001b[39m\u001b[38;5;124m\"\u001b[39m] \u001b[38;5;241m=\u001b[39m \u001b[38;5;28mself\u001b[39m\u001b[38;5;241m.\u001b[39m_unwrap_value(response\u001b[38;5;241m.\u001b[39mget(\u001b[38;5;124m\"\u001b[39m\u001b[38;5;124mvalue\u001b[39m\u001b[38;5;124m\"\u001b[39m, \u001b[38;5;28;01mNone\u001b[39;00m))\n\u001b[0;32m    456\u001b[0m     \u001b[38;5;28;01mreturn\u001b[39;00m response\n",
      "File \u001b[1;32mc:\\Users\\Windows\\anaconda3\\Lib\\site-packages\\selenium\\webdriver\\remote\\errorhandler.py:232\u001b[0m, in \u001b[0;36mErrorHandler.check_response\u001b[1;34m(self, response)\u001b[0m\n\u001b[0;32m    230\u001b[0m         alert_text \u001b[38;5;241m=\u001b[39m value[\u001b[38;5;124m\"\u001b[39m\u001b[38;5;124malert\u001b[39m\u001b[38;5;124m\"\u001b[39m]\u001b[38;5;241m.\u001b[39mget(\u001b[38;5;124m\"\u001b[39m\u001b[38;5;124mtext\u001b[39m\u001b[38;5;124m\"\u001b[39m)\n\u001b[0;32m    231\u001b[0m     \u001b[38;5;28;01mraise\u001b[39;00m exception_class(message, screen, stacktrace, alert_text)  \u001b[38;5;66;03m# type: ignore[call-arg]  # mypy is not smart enough here\u001b[39;00m\n\u001b[1;32m--> 232\u001b[0m \u001b[38;5;28;01mraise\u001b[39;00m exception_class(message, screen, stacktrace)\n",
      "\u001b[1;31mInvalidSessionIdException\u001b[0m: Message: invalid session id: session deleted as the browser has closed the connection\nfrom disconnected: not connected to DevTools\n  (Session info: chrome=138.0.7204.184); For documentation on this error, please visit: https://www.selenium.dev/documentation/webdriver/troubleshooting/errors#invalidsessionidexception\nStacktrace:\n\tGetHandleVerifier [0x0x7ff79e18e415+77285]\n\tGetHandleVerifier [0x0x7ff79e18e470+77376]\n\t(No symbol) [0x0x7ff79df59a6a]\n\t(No symbol) [0x0x7ff79df45cf5]\n\t(No symbol) [0x0x7ff79df6a7fa]\n\t(No symbol) [0x0x7ff79dfdfc05]\n\t(No symbol) [0x0x7ff79e000192]\n\t(No symbol) [0x0x7ff79dfd83e3]\n\t(No symbol) [0x0x7ff79dfa1521]\n\t(No symbol) [0x0x7ff79dfa22b3]\n\tGetHandleVerifier [0x0x7ff79e471efd+3107021]\n\tGetHandleVerifier [0x0x7ff79e46c29d+3083373]\n\tGetHandleVerifier [0x0x7ff79e48bedd+3213485]\n\tGetHandleVerifier [0x0x7ff79e1a884e+184862]\n\tGetHandleVerifier [0x0x7ff79e1b055f+216879]\n\tGetHandleVerifier [0x0x7ff79e197084+113236]\n\tGetHandleVerifier [0x0x7ff79e197239+113673]\n\tGetHandleVerifier [0x0x7ff79e17e298+11368]\n\tBaseThreadInitThunk [0x0x7ffd2022e8d7+23]\n\tRtlUserThreadStart [0x0x7ffd217fc34c+44]\n"
     ]
    }
   ],
   "source": [
    "cont = 0\n",
    "for url in pags_urls:\n",
    "    torneios = extrair_torneios(url)\n",
    "    for torneio in torneios:\n",
    "        partidas = extrair_partidas(torneio, list_datas[cont])\n",
    "        salvar(partidas)\n",
    "    cont += 1\n",
    "time.sleep(10)    "
   ]
  }
 ],
 "metadata": {
  "kernelspec": {
   "display_name": "base",
   "language": "python",
   "name": "python3"
  },
  "language_info": {
   "codemirror_mode": {
    "name": "ipython",
    "version": 3
   },
   "file_extension": ".py",
   "mimetype": "text/x-python",
   "name": "python",
   "nbconvert_exporter": "python",
   "pygments_lexer": "ipython3",
   "version": "3.12.7"
  }
 },
 "nbformat": 4,
 "nbformat_minor": 2
}
