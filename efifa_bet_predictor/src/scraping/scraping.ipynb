{
 "cells": [
  {
   "cell_type": "markdown",
   "id": "010ae9be",
   "metadata": {},
   "source": [
    "#"
   ]
  },
  {
   "cell_type": "markdown",
   "id": "54970a0e",
   "metadata": {},
   "source": [
    "## Scraping.ipynb\n",
    "\n",
    "---\n",
    "\n",
    "Notebook tem como objetivo extrair dados de partidas do site https://football.esportsbattle.com/en/ e salvar em um arquivo .csv"
   ]
  },
  {
   "cell_type": "code",
   "execution_count": null,
   "id": "a12463cd",
   "metadata": {},
   "outputs": [],
   "source": [
    "import pandas as pd\n",
    "from datetime import datetime, timedelta\n",
    "import requests"
   ]
  },
  {
   "cell_type": "markdown",
   "id": "72bd9892",
   "metadata": {},
   "source": [
    "\n",
    "##### gerar_url()\n",
    "\n",
    "Função que recebe uma data de referência e gera uma lista de URLs que busca os torneios"
   ]
  },
  {
   "cell_type": "code",
   "execution_count": null,
   "id": "4ce72672",
   "metadata": {},
   "outputs": [],
   "source": [
    "def gerar_url(data_inicial, data_final = datetime.now()):\n",
    "\n",
    "    datas = [\n",
    "        [(data_inicial + timedelta(days=n)).year,\n",
    "        (data_inicial + timedelta(days=n)).month,\n",
    "        (data_inicial + timedelta(days=n)).day]\n",
    "        for n in range((data_final - data_inicial).days + 1)\n",
    "    ]   \n",
    "\n",
    "    datas_url = []\n",
    "    pag = 1 \n",
    "    for i in range(len(datas)):\n",
    "        ano = datas[i][0]\n",
    "        mes = datas[i][1]\n",
    "        dia = datas[i][2]\n",
    "        if mes in [1,3,5,7,8,10,12] and dia == 31:\n",
    "            datas_url.append(f\"https://football.esportsbattle.com/api/tournaments?page={pag}&dateFrom={ano}%2F{mes}%2F{dia}+11%3A00&dateTo={ano}%2F{mes}%2F{1}+02%3A59\")\n",
    "        elif mes == 2 and dia == 28:\n",
    "            datas_url.append(f\"https://football.esportsbattle.com/api/tournaments?page={pag}&dateFrom={ano}%2F{mes}%2F{dia}+11%3A00&dateTo={ano}%2F{mes}%2F{1}+02%3A59\")\n",
    "        else:\n",
    "            datas_url.append(f\"https://football.esportsbattle.com/api/tournaments?page={pag}&dateFrom={ano}%2F{mes}%2F{dia}+11%3A00&dateTo={ano}%2F{mes}%2F{dia+1}+02%3A59\")\n",
    "\n",
    "\n",
    "    return datas_url"
   ]
  },
  {
   "cell_type": "markdown",
   "id": "2c1df4c0",
   "metadata": {},
   "source": [
    "##### Função que pega todos os torneios para a data definida"
   ]
  },
  {
   "cell_type": "code",
   "execution_count": 13,
   "id": "00e5607b",
   "metadata": {},
   "outputs": [],
   "source": [
    "def pega_torneios(datas_url):\n",
    "    lista_torneios = []  # Lista de todos os torneios disponíveis por página\n",
    "\n",
    "    for url in datas_url:\n",
    "        try:\n",
    "            response = requests.get(url)\n",
    "            response.raise_for_status()  # Lança erro se status != 200\n",
    "            json_torneios = response.json()\n",
    "\n",
    "            paginas = json_torneios.get('totalPages', 0)\n",
    "            torneios = json_torneios.get('tournaments', [])\n",
    "\n",
    "            for pag in range(paginas):\n",
    "                for torneio in torneios:\n",
    "                    lista_torneios.append([pag + 1, torneio])\n",
    "\n",
    "        except Exception as e:\n",
    "            print(f\"[AVISO] Erro ao processar URL: {url}\")\n",
    "            print(f\"Motivo: {e}\\n\")\n",
    "            continue\n",
    "\n",
    "    return lista_torneios\n"
   ]
  },
  {
   "cell_type": "markdown",
   "id": "2007e22e",
   "metadata": {},
   "source": [
    "##### Função que pega todas as partidas por torneio"
   ]
  },
  {
   "cell_type": "code",
   "execution_count": 14,
   "id": "77729610",
   "metadata": {},
   "outputs": [],
   "source": [
    "def pega_partidas(lista_torneios):\n",
    "    \n",
    "    lista_partidas = []\n",
    "    for i in range(len(lista_torneios)):\n",
    "        # pag = lista_torneios[i][0]\n",
    "        id_torneio = lista_torneios[i][1]['id']\n",
    "\n",
    "        lista_partidas.append(f'https://football.esportsbattle.com/api/tournaments/{id_torneio}/matches')\n",
    "\n",
    "    return lista_partidas"
   ]
  },
  {
   "cell_type": "code",
   "execution_count": 15,
   "id": "a4ac6fe5",
   "metadata": {},
   "outputs": [],
   "source": [
    "def pega_resultados(lista_partidas):\n",
    "    \n",
    "    dados = []\n",
    "    for i in range(len(lista_partidas)):\n",
    "        response = requests.get(lista_partidas[i]) # Faz a requisição na URL\n",
    "        json_jogos = response.json() # Retorna o JSON\n",
    "\n",
    "        for jogo in json_jogos:\n",
    "            dados.append({\n",
    "                'id': jogo['id'],\n",
    "                'data': jogo['date'],\n",
    "                'campeonato': jogo['tournament']['token_international'],\n",
    "                'estadio': jogo['console']['token_international'],\n",
    "                'team_player_1': jogo['participant1']['team']['token_international'],\n",
    "                'player_1': jogo['participant1']['nickname'],\n",
    "                'score_player_1': jogo['participant1']['score'],\n",
    "                'score_player_2': jogo['participant2']['score'],\n",
    "                'player_2': jogo['participant2']['nickname'],\n",
    "                'team_player_2': jogo['participant2']['team']['token_international']\n",
    "            })\n",
    "\n",
    "    \n",
    "    df_partidas = pd.DataFrame(dados)\n",
    "    return df_partidas"
   ]
  },
  {
   "cell_type": "code",
   "execution_count": null,
   "id": "eb594804",
   "metadata": {},
   "outputs": [],
   "source": [
    "if __name__ == \"__main__\":\n",
    "    urls = gerar_url(datetime(2025,1,1), datetime(2025,7,31))\n",
    "    torneios = pega_torneios(urls)\n",
    "    partidas = pega_partidas(torneios)\n",
    "    jogos = pega_resultados(partidas)\n"
   ]
  },
  {
   "cell_type": "code",
   "execution_count": null,
   "id": "a19f7db4",
   "metadata": {},
   "outputs": [],
   "source": [
    "jogos.to_csv(\"../../data/raw/raw_base_jogos.csv\", index=False, encoding='utf-8')"
   ]
  }
 ],
 "metadata": {
  "kernelspec": {
   "display_name": "base",
   "language": "python",
   "name": "python3"
  },
  "language_info": {
   "codemirror_mode": {
    "name": "ipython",
    "version": 3
   },
   "file_extension": ".py",
   "mimetype": "text/x-python",
   "name": "python",
   "nbconvert_exporter": "python",
   "pygments_lexer": "ipython3",
   "version": "3.12.7"
  }
 },
 "nbformat": 4,
 "nbformat_minor": 5
}
