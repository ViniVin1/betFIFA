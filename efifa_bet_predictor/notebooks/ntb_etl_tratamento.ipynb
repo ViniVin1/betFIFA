{
 "cells": [
  {
   "cell_type": "markdown",
   "id": "63476b86",
   "metadata": {},
   "source": [
    "### ntb_etl_tratamento.ipynb\n",
    "\n",
    "Notebook responsável por realizar o tratamento da base de jogos e exportar uma tabela confiável para treinamento do modelo de predição"
   ]
  },
  {
   "cell_type": "code",
   "execution_count": null,
   "id": "711fd12b",
   "metadata": {},
   "outputs": [],
   "source": [
    "import pandas as pd"
   ]
  }
 ],
 "metadata": {
  "kernelspec": {
   "display_name": "base",
   "language": "python",
   "name": "python3"
  },
  "language_info": {
   "name": "python",
   "version": "3.12.7"
  }
 },
 "nbformat": 4,
 "nbformat_minor": 5
}
