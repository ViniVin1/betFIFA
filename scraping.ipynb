{
 "cells": [
  {
   "cell_type": "markdown",
   "metadata": {},
   "source": [
    "##### Bibliotecas"
   ]
  },
  {
   "cell_type": "code",
   "execution_count": 1,
   "metadata": {},
   "outputs": [],
   "source": [
    "import pandas as pd\n",
    "import time\n",
    "import csv\n",
    "from selenium import webdriver\n",
    "from selenium.webdriver.chrome.service import Service\n",
    "from selenium.webdriver.common.by import By\n",
    "from datetime import datetime, timedelta"
   ]
  },
  {
   "cell_type": "markdown",
   "metadata": {},
   "source": [
    "##### Funções"
   ]
  },
  {
   "cell_type": "code",
   "execution_count": 2,
   "metadata": {},
   "outputs": [],
   "source": [
    "def extrair_partidas(url, data):\n",
    "    service = Service() # Usada para iniciar uma instância do Chrome\n",
    "    options = webdriver.ChromeOptions()\n",
    "    options.add_argument('--start-maximized') # Define a preferência de browser para o Chrome\n",
    "    driver = webdriver.Chrome(service=service, options=options) # Inicia a instância\n",
    "    time.sleep(5)\n",
    "    driver.get(url)\n",
    "\n",
    "    time.sleep(10)\n",
    "    partidas = driver.find_elements(By.CLASS_NAME, 'tournament-matches-row')\n",
    "    lista_partidas = []\n",
    "\n",
    "    # Pega dados\n",
    "    for i in range(len(partidas)):\n",
    "        partida = {}\n",
    "        partida['data'] = data\n",
    "        partida['time_casa'] = partidas[i].text.split('\\n')[4]\n",
    "        partida['player_casa'] = partidas[i].text.split('\\n')[5]\n",
    "        partida['gols_casa'] = int(partidas[i].text.split('\\n')[6])\n",
    "        partida['gols_fora'] = int(partidas[i].text.split('\\n')[8])\n",
    "        partida['player_fora'] = partidas[i].text.split('\\n')[11]\n",
    "        partida['time_fora'] = partidas[i].text.split('\\n')[10]\n",
    "        partida['total_gols'] = partida['gols_casa'] + partida['gols_fora']\n",
    "        \n",
    "        # Gols\n",
    "        if partida['total_gols'] > 3.5:\n",
    "            partida['+ 0.5'] = 'Sim'\n",
    "            partida['+ 1.5'] = 'Sim'\n",
    "            partida['+ 2.5'] = 'Sim'\n",
    "            partida['+ 3.5'] = 'Sim'\n",
    "        else:\n",
    "            if partida['total_gols'] > 2.5:\n",
    "                partida['+ 0.5'] = 'Sim'\n",
    "                partida['+ 1.5'] = 'Sim'\n",
    "                partida['+ 2.5'] = 'Sim'\n",
    "                partida['+ 3.5'] = 'Não'\n",
    "            else:\n",
    "                if partida['total_gols'] > 1.5:\n",
    "                    partida['+ 0.5'] = 'Sim'\n",
    "                    partida['+ 1.5'] = 'Sim'\n",
    "                    partida['+ 2.5'] = 'Não'\n",
    "                    partida['+ 3.5'] = 'Não'\n",
    "                else:\n",
    "                    if partida['total_gols'] > 0.5:\n",
    "                        partida['+ 0.5'] = 'Sim'\n",
    "                        partida['+ 1.5'] = 'Não'\n",
    "                        partida['+ 2.5'] = 'Não'\n",
    "                        partida['+ 3.5'] = 'Não'\n",
    "                    else:\n",
    "                        partida['+ 0.5'] = 'Não'\n",
    "                        partida['+ 1.5'] = 'Não'\n",
    "                        partida['+ 2.5'] = 'Não'\n",
    "                        partida['+ 3.5'] = 'Não'\n",
    "\n",
    "        \n",
    "        # Vitoria\n",
    "        if partida['gols_casa'] > partida['gols_fora']:\n",
    "            partida['vencedor'] = 'Casa'\n",
    "        elif partida['gols_casa'] < partida['gols_fora']:\n",
    "            partida['vencedor'] = 'Fora'\n",
    "        else:\n",
    "            partida['vencedor'] = 'Empate'\n",
    "        \n",
    "\n",
    "\n",
    "        lista_partidas.append(partida)\n",
    "        \n",
    "    driver.close()\n",
    "    driver.quit()\n",
    "    return lista_partidas\n",
    "\n",
    "def extrair_torneios(url):\n",
    "    service = Service() # Usada para iniciar uma instância do Chrome\n",
    "    options = webdriver.ChromeOptions()\n",
    "    options.add_argument('--start-maximized') # Define a preferência de browser para o Chrome\n",
    "    driver = webdriver.Chrome(service=service, options=options) # Inicia a instância\n",
    "    driver.get(url)\n",
    "    time.sleep(10)\n",
    "    links = driver.find_elements(By.CLASS_NAME, 'icon-link')\n",
    "\n",
    "    lista_torneios = []\n",
    "    for i in range(len(links)):\n",
    "        lista_torneios.append(links[i].get_attribute('href'))\n",
    "\n",
    "    return lista_torneios\n",
    "\n",
    "def salvar(dados):\n",
    "    dados = dados\n",
    "    for i in range(len(dados)):\n",
    "        with open('base_jogos.csv', 'a', newline='', encoding='utf-8') as arquivo:\n",
    "            escrever = csv.writer(arquivo)\n",
    "            escrever.writerow([dados[i]['data'], dados[i]['time_casa'], dados[i]['player_casa'], \n",
    "            dados[i]['gols_casa'], dados[i]['gols_fora'], dados[i]['player_fora'], dados[i]['time_fora'], \n",
    "            dados[i]['total_gols'], dados[i]['+ 0.5'], dados[i]['+ 1.5'],dados[i]['+ 2.5'],\n",
    "            dados[i]['+ 3.5'], dados[i]['vencedor']])\n",
    "    \n"
   ]
  },
  {
   "cell_type": "markdown",
   "metadata": {},
   "source": [
    "##### Preparação"
   ]
  },
  {
   "cell_type": "code",
   "execution_count": 5,
   "metadata": {},
   "outputs": [],
   "source": [
    "# Cria uma lista de datas\n",
    "list_datas = [(datetime(2022, 1, 15) + timedelta(days=n)).strftime('%Y-%m-%d') \n",
    "              for n in range((datetime(2022, 12, 31) - datetime(2022, 1, 1)).days + 1)]\n",
    "\n",
    "# Cria um lista de URLs com as datas\n",
    "pags_urls = []\n",
    "for i in range(len(list_datas)):\n",
    "    url = f\"https://football.esportsbattle.com/en/schedule?page=1&dateFrom={list_datas[i].split('-')[0]}%2F{list_datas[i].split('-')[1]}%2F{list_datas[i].split('-')[2]}+08%3A00&dateTo={list_datas[i].split('-')[0]}%2F{list_datas[i].split('-')[1]}%2F{list_datas[i].split('-')[2]}+23%3A59\"\n",
    "    pags_urls.append(url)    "
   ]
  },
  {
   "cell_type": "markdown",
   "metadata": {},
   "source": [
    "##### Inicialização das Funções"
   ]
  },
  {
   "cell_type": "code",
   "execution_count": null,
   "metadata": {},
   "outputs": [],
   "source": [
    "cont = 0\n",
    "for url in pags_urls:\n",
    "    torneios = extrair_torneios(url)\n",
    "    for torneio in torneios:\n",
    "        partidas = extrair_partidas(torneio, list_datas[cont])\n",
    "        salvar(partidas)\n",
    "    cont += 1\n",
    "time.sleep(10)    "
   ]
  }
 ],
 "metadata": {
  "kernelspec": {
   "display_name": "Python 3",
   "language": "python",
   "name": "python3"
  },
  "language_info": {
   "codemirror_mode": {
    "name": "ipython",
    "version": 3
   },
   "file_extension": ".py",
   "mimetype": "text/x-python",
   "name": "python",
   "nbconvert_exporter": "python",
   "pygments_lexer": "ipython3",
   "version": "3.10.7"
  }
 },
 "nbformat": 4,
 "nbformat_minor": 2
}
